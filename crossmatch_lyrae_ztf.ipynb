{
 "cells": [
  {
   "cell_type": "code",
   "execution_count": 4,
   "metadata": {},
   "outputs": [],
   "source": [
    "import axs\n",
    "import numpy as np\n",
    "from astropy.io import fits\n",
    "import matplotlib\n",
    "import matplotlib.pyplot as plt\n",
    "\n",
    "import os\n",
    "from pyspark.sql.functions import size as spark_size\n",
    "from matplotlib.backends.backend_pdf import PdfPages\n",
    "\n",
    "\n",
    "matplotlib.rcParams['figure.dpi'] = 120"
   ]
  },
  {
   "cell_type": "code",
   "execution_count": 5,
   "metadata": {},
   "outputs": [],
   "source": [
    "def spark_start(project_path, metastore=None):\n",
    "    from pyspark.sql import SparkSession\n",
    "\n",
    "    warehouse_location = os.path.join(project_path, 'spark-warehouse')\n",
    "\n",
    "    local_dir = os.path.join(project_path, 'spark-tmp')\n",
    "\n",
    "    spark = ( \n",
    "            SparkSession.builder\n",
    "            .appName(\"LSD2\")\n",
    "            .config(\"spark.sql.warehouse.dir\", warehouse_location)\n",
    "            .config('spark.master', \"local[4]\")\n",
    "            .config('spark.driver.memory', '6G') # 128\n",
    "            .config('spark.local.dir', local_dir)\n",
    "            .config('spark.memory.offHeap.enabled', 'true')\n",
    "            .config('spark.memory.offHeap.size', '4G') # 256\n",
    "            .config(\"spark.sql.execution.arrow.enabled\", \"true\")\n",
    "            .config(\"spark.driver.maxResultSize\", \"6G\")\n",
    "            .config(\"spark.driver.extraJavaOptions\", f\"-Dderby.system.home={metastore}\")\n",
    "            .enableHiveSupport()\n",
    "            .getOrCreate()\n",
    "                    )   \n",
    "\n",
    "    return spark\n",
    "\n",
    "spark_session = spark_start(\"/epyc/users/ctslater\")\n",
    "\n",
    "catalog = axs.AxsCatalog(spark_session)"
   ]
  },
  {
   "cell_type": "code",
   "execution_count": 6,
   "metadata": {},
   "outputs": [],
   "source": [
    "ztf = catalog.load(\"ztf_1am_lc\")"
   ]
  },
  {
   "cell_type": "code",
   "execution_count": 4,
   "metadata": {},
   "outputs": [
    {
     "name": "stdout",
     "output_type": "stream",
     "text": [
      "CPU times: user 14.4 ms, sys: 8.51 ms, total: 22.9 ms\n",
      "Wall time: 19.3 s\n"
     ]
    },
    {
     "data": {
      "text/plain": [
       "[Row(matchid='00037712032113057', ra=227.4292279, dec=-9.6026943, zone=4823, dup=0, astrometricrms=0.0, bestastrometricrms=0.0, bestchisq=0.0, bestcon=0.0, bestlineartrend=0.0, bestmagrms=0.0, bestmaxmag=0.0, bestmaxslope=0.0, bestmeanmag=0.0, bestmedianabsdev=0.0, bestmedianmag=0.0, bestminmag=0.0, bestnmedianbufferrange=0, bestnpairposslope=0, bestprobnonqso=0.0, bestprobqso=0.0, bestskewness=0.0, bestsmallkurtosis=0.0, beststetsonj=0.0, beststetsonk=0.0, bestvonneumannratio=0.0, bestweightedmagrms=0.0, bestweightedmeanmag=0.0, chisq=0.0, con=0.0, lineartrend=0.0, magrms=None, maxmag=20.48711585998535, maxslope=0.0, meanmag=20.48711585998535, medianabsdev=0.0, medianmag=20.48711585998535, minmag=20.48711585998535, nbestobs=0, ngoodobs=1, nmedianbufferrange=0, nobs=1, npairposslope=0, probnonqso=0.0, probqso=0.0, refchi=0.0, refmag=0.0, refmagerr=0.0, refsharp=0.0, refsnr=0.0, skewness=0.0, smallkurtosis=0.0, stetsonj=0.0, stetsonk=0.0, uncalibmeanmag=0.0, vonneumannratio=0.0, weightedmagrms=-0.0, weightedmeanmag=20.48711585998535, is_transient=True, bestnabovemeanbystd=[0, 0, 0], bestnbelowmeanbystd=[0, 0, 0], bestnconsecabovemeanbystd=[0, 0, 0], bestnconsecbelowmeanbystd=[0, 0, 0], bestnconsecfrommeanbystd=[0, 0, 0], nabovemeanbystd=[0, 0, 0], nbelowmeanbystd=[0, 0, 0], nconsecabovemeanbystd=[0, 0, 0], nconsecbelowmeanbystd=[0, 0, 0], nconsecfrommeanbystd=[0, 0, 0], bestpercentiles=[0.0, 0.0, 0.0, 0.0, 0.0, 0.0, 0.0, 0.0, 0.0, 0.0, 0.0, 0.0], percentiles=[20.48711585998535, 20.48711585998535, 20.48711585998535, 20.48711585998535, 20.48711585998535, 20.48711585998535, 20.48711585998535, 20.48711585998535, 20.48711585998535, 20.48711585998535, 20.48711585998535, 20.48711585998535], bestperiodsearch=[[0.0, 0.0], [0.0, 0.0], [0.0, 0.0], [0.0, 0.0], [0.0, 0.0]], periodsearch=[[0.0, 0.0], [0.0, 0.0], [0.0, 0.0], [0.0, 0.0], [0.0, 0.0]], filterid=[], catflags=[], chi=[], declc=[], expid=[], hjd=[], mag=[], magerr=[], mjd=[], programid=[], psfflux=[], psffluxerr=[], psfmag=[], psfmagerr=[], ralc=[], relphotflags=[], sharp=[], sid=[], snr=[], xpos=[], ypos=[])]"
      ]
     },
     "execution_count": 4,
     "metadata": {},
     "output_type": "execute_result"
    }
   ],
   "source": [
    "%%time\n",
    "\n",
    "ztf.select(\"*\").where((ztf['matchid'] == 37712032113057) & (ztf['zone'] == 4823)).collect()"
   ]
  },
  {
   "cell_type": "code",
   "execution_count": 7,
   "metadata": {},
   "outputs": [
    {
     "name": "stdout",
     "output_type": "stream",
     "text": [
      "Help on method crossmatch in module axs.axsframe:\n",
      "\n",
      "crossmatch(axsframe, r=0.0002777777777777778) method of axs.axsframe.AxsFrame instance\n",
      "    Performs the cross-match operation between this AxsFrame and `axsframe`, which can be either an AxsFrame or\n",
      "    a Spark's DataFrame, using `r` for the cross-matching radius (one arc-second by default).\n",
      "    \n",
      "    Both frames need to have `zone`, `ra`, `dec`, and `dup` columns.\n",
      "    \n",
      "    Bote that if `axsframe` is a Spark frame, the cross-match operation will not be optimized and might take\n",
      "    a much longer time to complete.\n",
      "    \n",
      "    The best performance can be expected when both tables are read directly as AxsFrames.\n",
      "    In that scenario cross-matching will be done on bucket pairs in parallel without data movement between\n",
      "    executors. If, however, one of the two AxsFrames being cross-matched is the result of a `groupBy` operation,\n",
      "    for example, data movement cannot be avoided. In those cases, it might prove faster to first save the\n",
      "    \"grouped by\" table using `save_axs_table` and then do the cross-match.\n",
      "    \n",
      "    .. warning::\n",
      "        The two AXS tables being cross-matched need to have the same zone height and the same number of buckets.\n",
      "        The results are otherwise unreliable.\n",
      "    \n",
      "    The resulting table will contain all colunms from both input tables.\n",
      "    \n",
      "    :param axsframe: The AXS frame or Spark DataFrame to be used cross-matched\n",
      "    :param r: The search radius used for cross-matching. One arc-second by default.\n",
      "    :return: AxsFrame containing cross-matching results with all columns from both frames.\n",
      "\n"
     ]
    }
   ],
   "source": [
    "help(ztf.crossmatch)"
   ]
  },
  {
   "cell_type": "code",
   "execution_count": 7,
   "metadata": {},
   "outputs": [],
   "source": [
    "sesar_axs = catalog.load(\"sesar_rrlyrae\")"
   ]
  },
  {
   "cell_type": "code",
   "execution_count": 8,
   "metadata": {
    "scrolled": true
   },
   "outputs": [
    {
     "name": "stdout",
     "output_type": "stream",
     "text": [
      "CPU times: user 54.4 ms, sys: 17.2 ms, total: 71.6 ms\n",
      "Wall time: 1min 26s\n"
     ]
    }
   ],
   "source": [
    "%%time\n",
    "matched = sesar_axs.crossmatch(ztf).drop(\"axsdist\")\n",
    "results = (matched.select(\"ra\", \"dec\", \"matchid\", \"Per\", \"weightedmeanmag\", \"filterid\", \"mjd\", \"psfflux\")\n",
    "                  .where((spark_size(matched['mjd']) > 5) &\n",
    "                         ( (matched['S3ab'] > 0.8) | (matched['S3c'] > 0.8))).head(200))"
   ]
  },
  {
   "cell_type": "code",
   "execution_count": null,
   "metadata": {},
   "outputs": [],
   "source": [
    "%%time\n",
    "\n",
    "# This takes a while\n",
    "#matched.where(spark_size(matched['mjd']) > 5).count()"
   ]
  },
  {
   "cell_type": "code",
   "execution_count": 10,
   "metadata": {},
   "outputs": [
    {
     "data": {
      "text/plain": [
       "Row(ra=265.75893, dec=19.82638, matchid='0005871103101088', Per=0.57479179, weightedmeanmag=15.913511276245117, filterid=[1, 1, 1, 1, 1, 1, 1, 1, 1, 1, 1, 1, 1, 1, 1, 1, 1, 1, 1, 1, 1, 1, 1, 1, 1, 1, 1, 1, 1, 1, 1, 1, 1, 1, 1, 1, 1, 1, 1, 1, 1, 1, 1, 1, 1, 1, 1, 1, 1, 1, 1, 1, 1, 1, 1, 1, 1, 1, 1, 1, 1, 1, 1, 1, 1, 1, 1, 1, 1, 1, 1, 1, 1, 1, 1, 1, 1, 1, 1, 1, 1, 1, 1, 1, 1, 1, 1, 1, 1, 1, 1, 1, 1, 1, 1, 1, 1, 1, 1, 1, 1, 1, 1, 1, 1, 1, 1, 1, 1, 1, 1, 1, 1, 1, 1, 1, 1, 1, 1, 1, 1, 1, 1, 1, 1, 1, 1, 1, 1, 1, 1, 1, 1, 1, 1, 1, 1, 1, 1, 1, 1, 1, 1, 1, 1, 1, 1, 1, 1, 1, 1, 1, 1], mjd=[58287.248669, 58307.316331, 58290.2340625, 58290.4033102, 58308.2273495, 58311.3370023, 58308.2084838, 58292.215706, 58287.3373148, 58307.2334028, 58286.4210417, 58303.4062269, 58306.2952083, 58276.3783333, 58312.3361806, 58288.3723495, 58310.3515509, 58234.3367477, 58312.3602662, 58288.379294, 58308.3797685, 58204.4697338, 58205.5278935, 58206.5105324, 58207.4672222, 58237.3199306, 58292.416331, 58207.4278588, 58236.4809375, 58230.481956, 58306.3161458, 58311.2509491, 58310.3259375, 58303.2856134, 58302.2083449, 58249.3953241, 58278.356956, 58292.3540972, 58305.2118287, 58289.3985995, 58207.5294792, 58258.3586806, 58254.4204398, 58280.3992014, 58305.3141898, 58278.3941667, 58280.2894097, 58274.3803125, 58254.3982407, 58274.2916782, 58276.3374884, 58255.3776736, 58279.3592361, 58258.4627315, 58291.3506829, 58283.2893634, 58261.421794, 58286.4076273, 58283.4146991, 58277.3161574, 58307.3505093, 58277.3368634, 58249.3584722, 58208.4500694, 58209.5130556, 58302.212662, 58235.4802431, 58255.3589468, 58204.4235301, 58284.3601157, 58252.4568866, 58275.2739699, 58277.3555556, 58262.436169, 58204.5323032, 58282.3598264, 58234.4183681, 58282.3792014, 58281.2737037, 58274.4096412, 58280.4357986, 58255.3976736, 58286.2691898, 58283.3114005, 58236.3998727, 58278.3971528, 58261.4429745, 58285.4335648, 58262.4040509, 58258.3377083, 58259.4159838, 58231.4581944, 58237.4395255, 58230.3759954, 58281.3814352, 58279.3380324, 58247.3622454, 58204.4902894, 58235.419294, 58236.4191435, 58247.3784375, 58205.4903125, 58205.5084259, 58235.3800231, 58276.3568403, 58206.4638426, 58227.3553125, 58208.4266551, 58203.503669, 58232.4394097, 58236.3078125, 58206.4231829, 58236.4610532, 58205.4287963, 58285.2897917, 58231.4792014, 58232.4591551, 58312.3253472, 58291.434919, 58290.2121528, 58304.3126505, 58304.2280903, 58209.5232407, 58209.4865856, 58204.4437616, 58206.4454745, 58207.5041088, 58237.3566667, 58235.4001505, 58230.3999769, 58231.3974074, 58205.4408218, 58289.3791204, 58305.2955093, 58206.491088, 58204.5057639, 58252.4192824, 58234.4387616, 58235.4386227, 58208.5087037, 58207.4872801, 58207.4452431, 58208.4649074, 58232.4811458, 58237.4594792, 58247.3373958, 58203.4238773, 58209.4665394, 58236.3765741, 58208.4886458, 58284.3766088, 58205.4701505, 58231.4202083], psfflux=[14120.375, 13141.193359375, 11657.7236328125, 10456.6455078125, 9509.8076171875, 11455.40625, 9405.224609375, 15873.1533203125, 12841.94921875, 16183.25390625, 11593.451171875, 11841.771484375, 10592.416015625, 12936.9580078125, 13397.9375, 15327.0419921875, 9958.2265625, 8704.6357421875, 16168.3505859375, 14556.294921875, 13621.9921875, 14799.712890625, 17373.0078125, 9413.8955078125, 12162.4619140625, 9848.71484375, 13965.115234375, 12526.412109375, 16993.0859375, 8282.05078125, 10284.6357421875, 16198.1708984375, 10485.591796875, 15172.4912109375, 13596.9130859375, 12331.728515625, 10670.7890625, 16257.9755859375, 9812.4794921875, 18909.72265625, 11984.470703125, 18770.8671875, 16079.2197265625, 13546.89453125, 10514.619140625, 13811.5625, 15975.8544921875, 15843.931640625, 16914.986328125, 10710.193359375, 14198.6513671875, 10809.33984375, 11765.6376953125, 14623.5068359375, 12619.087890625, 13262.8330078125, 12759.3876953125, 10959.7822265625, 11657.7236328125, 17958.873046875, 12514.875, 17777.794921875, 12665.6826171875, 9875.9794921875, 19529.396484375, 13238.4150390625, 15270.66015625, 10437.392578125, 15713.0986328125, 10829.2783203125, 10651.1416015625, 12241.162109375, 17293.1640625, 16914.986328125, 13634.548828125, 9474.818359375, 10087.529296875, 9615.5517578125, 14772.466796875, 17582.333984375, 12665.6826171875, 12422.96484375, 12309.0244140625, 12735.896484375, 10265.69921875, 14264.2119140625, 12207.37109375, 16852.765625, 18719.05859375, 18175.255859375, 4646.57470703125, 15074.953125, 11722.353515625, 4511.47900390625, 17925.814453125, 12006.576171875, 14120.375, 14489.3916015625, 17213.685546875, 11225.5234375, 16034.8388671875, 19314.68359375, 18428.16796875, 18208.77734375, 13447.4072265625, 10959.7822265625, 16744.4296875, 11625.54296875, 11646.9873046875, 13422.6494140625, 9848.71484375, 11235.8720703125, 15858.5361328125, 3207.180908203125, 807.8305053710938, 14382.9853515625, 17909.306640625, 14042.53125, 11329.4384765625, 11863.6142578125, 17794.1796875, 10162.16796875, 18822.818359375, 19601.49609375, 15270.66015625, 11051.0498046875, 11863.6142578125, 11765.6376953125, 17826.998046875, 12140.0693359375, 16775.310546875, 13129.0908203125, 18564.490234375, 10720.06640625, 10256.2431640625, 13798.8427734375, 11266.974609375, 10680.626953125, 16545.076171875, 11962.4052734375, 11863.6142578125, 12526.412109375, 9466.0908203125, 19067.166015625, 11122.5615234375, 11081.6416015625, 5243.07470703125, 17647.248046875, 10106.13671875, 12700.7412109375, 12445.87890625, 19014.5390625, 15917.0869140625])"
      ]
     },
     "execution_count": 10,
     "metadata": {},
     "output_type": "execute_result"
    }
   ],
   "source": [
    "results[0]"
   ]
  },
  {
   "cell_type": "code",
   "execution_count": 17,
   "metadata": {},
   "outputs": [],
   "source": [
    "import cesium\n",
    "from cesium.time_series import TimeSeries\n",
    "from cesium.featurize import featurize_single_ts"
   ]
  },
  {
   "cell_type": "code",
   "execution_count": 12,
   "metadata": {},
   "outputs": [],
   "source": [
    "result = results[0]"
   ]
  },
  {
   "cell_type": "code",
   "execution_count": 19,
   "metadata": {},
   "outputs": [
    {
     "name": "stdout",
     "output_type": "stream",
     "text": [
      "CPU times: user 1.36 s, sys: 145 ms, total: 1.5 s\n",
      "Wall time: 51.6 ms\n"
     ]
    }
   ],
   "source": [
    "%%time\n",
    "result = results[0]\n",
    "\n",
    "features_to_use = [\"amplitude\",\n",
    "                   \"percent_beyond_1_std\",\n",
    "                   \"maximum\",\n",
    "                   \"max_slope\",\n",
    "                   \"median\",\n",
    "                   \"median_absolute_deviation\",\n",
    "                   \"percent_close_to_median\",\n",
    "                   \"minimum\",\n",
    "                   \"skew\",\n",
    "                   \"std\",\n",
    "                   \"weighted_average\"]\n",
    "ls_features = [\"freq1_amplitude1\",\n",
    "                \"freq1_amplitude2\",\n",
    "                \"freq1_amplitude3\",\n",
    "                \"freq1_amplitude4\",\n",
    "                \"freq1_freq\",\n",
    "                \"freq1_lambda\",\n",
    "                \"freq1_rel_phase2\",\n",
    "                \"freq1_rel_phase3\",\n",
    "                \"freq1_rel_phase4\",\n",
    "                \"freq1_signif\",\n",
    "                \"freq2_amplitude1\",\n",
    "                \"freq2_amplitude2\",\n",
    "                \"freq2_amplitude3\",\n",
    "                \"freq2_amplitude4\",\n",
    "                \"freq2_freq\",\n",
    "                \"freq2_rel_phase2\",\n",
    "                \"freq2_rel_phase3\",\n",
    "                \"freq2_rel_phase4\"]\n",
    "\n",
    "ts = TimeSeries(t=np.array(result['mjd']), m=np.array(result['psfflux']))\n",
    "feat_out = featurize_single_ts(ts, features_to_use + ls_features)"
   ]
  },
  {
   "cell_type": "code",
   "execution_count": 21,
   "metadata": {},
   "outputs": [
    {
     "data": {
      "text/plain": [
       "channel\n",
       "0    0.574923\n",
       "dtype: float64"
      ]
     },
     "execution_count": 21,
     "metadata": {},
     "output_type": "execute_result"
    }
   ],
   "source": [
    "1/feat_out['freq1_freq']"
   ]
  },
  {
   "cell_type": "code",
   "execution_count": 22,
   "metadata": {},
   "outputs": [
    {
     "data": {
      "text/plain": [
       "0.57479179"
      ]
     },
     "execution_count": 22,
     "metadata": {},
     "output_type": "execute_result"
    }
   ],
   "source": [
    "result['Per']"
   ]
  },
  {
   "cell_type": "code",
   "execution_count": 20,
   "metadata": {},
   "outputs": [
    {
     "data": {
      "text/plain": [
       "feature                    channel\n",
       "amplitude                  0            9396.832794\n",
       "percent_beyond_1_std       0               0.307190\n",
       "maximum                    0           19601.496094\n",
       "max_slope                  0          825072.546836\n",
       "median                     0           12735.896484\n",
       "median_absolute_deviation  0            2143.480469\n",
       "percent_close_to_median    0               0.431373\n",
       "minimum                    0             807.830505\n",
       "skew                       0              -0.375430\n",
       "std                        0            3359.907709\n",
       "weighted_average           0           13263.989591\n",
       "freq1_amplitude1           0            3022.199473\n",
       "freq1_amplitude2           0            1063.568925\n",
       "freq1_amplitude3           0             230.753765\n",
       "freq1_amplitude4           0              16.869063\n",
       "freq1_freq                 0               1.739364\n",
       "freq1_lambda               0               7.425334\n",
       "freq1_rel_phase2           0              -0.952610\n",
       "freq1_rel_phase3           0              -1.643048\n",
       "freq1_rel_phase4           0               2.473324\n",
       "freq1_signif               0               7.547384\n",
       "freq2_amplitude1           0             892.550622\n",
       "freq2_amplitude2           0              59.022117\n",
       "freq2_amplitude3           0               3.508887\n",
       "freq2_amplitude4           0               2.409814\n",
       "freq2_freq                 0               1.353818\n",
       "freq2_rel_phase2           0               1.866372\n",
       "freq2_rel_phase3           0               1.857011\n",
       "freq2_rel_phase4           0               3.126963\n",
       "dtype: float64"
      ]
     },
     "execution_count": 20,
     "metadata": {},
     "output_type": "execute_result"
    }
   ],
   "source": [
    "feat_out"
   ]
  },
  {
   "cell_type": "markdown",
   "metadata": {},
   "source": [
    "Big book of lightcurves\n",
    "---------"
   ]
  },
  {
   "cell_type": "code",
   "execution_count": 54,
   "metadata": {
    "scrolled": false
   },
   "outputs": [],
   "source": [
    "%%capture\n",
    "# Supress all output from this. This is a hack.\n",
    "\n",
    "\n",
    "figures = []\n",
    "for n in range(len(results)//4):\n",
    "\n",
    "    fig, axes = plt.subplots(2, 2)\n",
    "    for m, ax in enumerate(axes.flatten()):\n",
    "        result_id = 4*n + m\n",
    "        this_source = results[result_id]\n",
    "\n",
    "        sel, = np.where(np.array(this_source['filterid']) == 1)\n",
    "        if(len(sel) > 0):\n",
    "            ax.plot(np.array(this_source['mjd'])[sel]/this_source[\"Per\"] % 1,\n",
    "                     np.array(this_source['psfflux'])[sel], '.')\n",
    "\n",
    "        sel, = np.where(np.array(this_source['filterid']) == 2)\n",
    "        if(len(sel) > 0):\n",
    "            ax.plot(np.array(this_source['mjd'])[sel]/this_source[\"Per\"] % 1,\n",
    "                     np.array(this_source['psfflux'])[sel], '.')\n",
    "\n",
    "\n",
    "        flux_std = np.std(this_source['psfflux'])\n",
    "        flux_mean = np.mean(this_source['psfflux'])\n",
    "        ax.set_ylim(flux_mean - 3*flux_std, flux_mean + 3*flux_std)\n",
    "        ax.set_xlim(0, 1)\n",
    "        ax.set_xlabel(\"Phase\")\n",
    "        ax.set_ylabel(\"Flux\")\n",
    "        ax.yaxis.set_ticklabels(\"\")\n",
    "        ax.xaxis.set_ticklabels([\"0\", \"\", \"\", \"\", \"\", \"1\"])\n",
    "\n",
    "        ax.text(0.85, 0.95, \"{:0.1f}\".format(this_source['weightedmeanmag']),\n",
    "                 fontsize=8, verticalalignment=\"top\",\n",
    "                 transform=ax.transAxes)\n",
    "        ax.text(0.05, 0.95, \"{:d}\".format(result_id),\n",
    "                 fontsize=8, verticalalignment=\"top\",\n",
    "                 transform=ax.transAxes)\n",
    "        \n",
    "    figures.append(fig)\n",
    "\n",
    "with PdfPages('ztf_lyrae.pdf') as pdf:            \n",
    "    for fig in figures:\n",
    "        pdf.savefig(fig);"
   ]
  },
  {
   "cell_type": "markdown",
   "metadata": {},
   "source": [
    "Handling Duplicates\n",
    "==========\n",
    "\n",
    "The following is an experiment"
   ]
  },
  {
   "cell_type": "code",
   "execution_count": 80,
   "metadata": {},
   "outputs": [
    {
     "data": {
      "text/plain": [
       "[(284.0499, 51.40418, '00079801032010593'),\n",
       " (284.0499, 51.40418, '0007980103107527'),\n",
       " (259.79441, 56.32541, '0007961001102429'),\n",
       " (259.79441, 56.32541, '0007961001205113')]"
      ]
     },
     "execution_count": 80,
     "metadata": {},
     "output_type": "execute_result"
    }
   ],
   "source": [
    "[(x['ra'], x['dec'], x['matchid']) for x in results[28:32]]"
   ]
  },
  {
   "cell_type": "code",
   "execution_count": null,
   "metadata": {},
   "outputs": [],
   "source": [
    "%%time\n",
    "\n",
    "matched = sesar_axs.crossmatch(ztf).drop(\"axsdist\")\n",
    "renames = []\n",
    "for col in matched.columns:\n",
    "    if col in ('zone', 'ra', 'dec', 'dup'):\n",
    "        renames.append(col)\n",
    "    else:\n",
    "        renames.append(\"a_\" + col)\n",
    "                \n",
    "self_matched = matched.crossmatch(matched.toDF(*renames))\n",
    "self_matched.select(\"ra\", \"dec\", \"matchid\", \"a_matchid\").head(5)\n",
    "\n"
   ]
  }
 ],
 "metadata": {
  "kernelspec": {
   "display_name": "Python 3-AXS Spark",
   "language": "python",
   "name": "spark-smj"
  },
  "language_info": {
   "codemirror_mode": {
    "name": "ipython",
    "version": 3
   },
   "file_extension": ".py",
   "mimetype": "text/x-python",
   "name": "python",
   "nbconvert_exporter": "python",
   "pygments_lexer": "ipython3",
   "version": "3.6.4"
  }
 },
 "nbformat": 4,
 "nbformat_minor": 2
}
